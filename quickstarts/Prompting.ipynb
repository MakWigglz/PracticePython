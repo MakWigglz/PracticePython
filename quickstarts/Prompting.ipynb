{
  "cells": [
    {
      "cell_type": "markdown",
      "metadata": {
        "id": "view-in-github",
        "colab_type": "text"
      },
      "source": [
        "<a href=\"https://colab.research.google.com/github/MakWigglz/PracticePython/blob/main/quickstarts/Prompting.ipynb\" target=\"_parent\"><img src=\"https://colab.research.google.com/assets/colab-badge.svg\" alt=\"Open In Colab\"/></a>"
      ]
    },
    {
      "cell_type": "markdown",
      "metadata": {
        "id": "Tce3stUlHN0L"
      },
      "source": [
        "##### Copyright 2024 Google LLC."
      ]
    },
    {
      "cell_type": "code",
      "execution_count": null,
      "metadata": {
        "cellView": "form",
        "id": "tuOe1ymfHZPu"
      },
      "outputs": [],
      "source": [
        "# @title Licensed under the Apache License, Version 2.0 (the \"License\");\n",
        "# you may not use this file except in compliance with the License.\n",
        "# You may obtain a copy of the License at\n",
        "#\n",
        "# https://www.apache.org/licenses/LICENSE-2.0\n",
        "#\n",
        "# Unless required by applicable law or agreed to in writing, software\n",
        "# distributed under the License is distributed on an \"AS IS\" BASIS,\n",
        "# WITHOUT WARRANTIES OR CONDITIONS OF ANY KIND, either express or implied.\n",
        "# See the License for the specific language governing permissions and\n",
        "# limitations under the License."
      ]
    },
    {
      "cell_type": "markdown",
      "metadata": {
        "id": "yeadDkMiISin"
      },
      "source": [
        "# Gemini API: Prompting Quickstart\n",
        "\n",
        "<table align=\"left\">\n",
        "  <td>\n",
        "    <a target=\"_blank\" href=\"https://colab.research.google.com/github/google-gemini/cookbook/blob/main/quickstarts/Prompting.ipynb\"><img src=\"https://github.com/google-gemini/cookbook/blob/main/images/colab_logo_32px.png?raw=1\" />Run in Google Colab</a>\n",
        "  </td>\n",
        "</table>"
      ]
    },
    {
      "cell_type": "markdown",
      "metadata": {
        "id": "dpOYALec6N8Z"
      },
      "source": [
        "This notebook contains examples of how to write and run your first prompts with the Gemini API."
      ]
    },
    {
      "cell_type": "code",
      "execution_count": 5,
      "metadata": {
        "id": "0c13de5f68f6"
      },
      "outputs": [],
      "source": [
        "!pip install -U -q \"google-generativeai>=0.7.2\" # Install the Python SDK"
      ]
    },
    {
      "cell_type": "code",
      "execution_count": 6,
      "metadata": {
        "id": "TS9l5igubpHO"
      },
      "outputs": [],
      "source": [
        "import google.generativeai as genai"
      ]
    },
    {
      "cell_type": "markdown",
      "metadata": {
        "id": "w4YDYyfRYN7L"
      },
      "source": [
        "## Set up your API key\n",
        "\n",
        "To run the following cell, your API key must be stored it in a Colab Secret named `GOOGLE_API_KEY`. If you don't already have an API key, or you're not sure how to create a Colab Secret, see the [Authentication](https://github.com/google-gemini/cookbook/blob/main/quickstarts/Authentication.ipynb) quickstart for an example."
      ]
    },
    {
      "cell_type": "code",
      "execution_count": 7,
      "metadata": {
        "id": "p8K1RpmMfh20"
      },
      "outputs": [],
      "source": [
        "from google.colab import userdata\n",
        "GOOGLE_API_KEY=userdata.get('GOOGLE_API_KEY')\n",
        "genai.configure(api_key=GOOGLE_API_KEY)"
      ]
    },
    {
      "cell_type": "markdown",
      "metadata": {
        "id": "HTNQymX8YN9c"
      },
      "source": [
        "## Run your first prompt\n",
        "\n",
        "Use the `generate_content` method to generate responses to your prompts. You can pass text directly to generate_content, and use the `.text` property to get the text content of the response."
      ]
    },
    {
      "cell_type": "code",
      "execution_count": 8,
      "metadata": {
        "id": "XSuyaGmcf6sr",
        "outputId": "55bda063-806e-4055-d4aa-2164f256c368",
        "colab": {
          "base_uri": "https://localhost:8080/",
          "height": 1000
        }
      },
      "outputs": [
        {
          "output_type": "stream",
          "name": "stdout",
          "text": [
            "Yes, you can definitely install the Python SDK and GenAI library (likely referring to `google-generativeai`) using your Google API key on your local machine. Here's how, along with explanations and best practices:\n",
            "\n",
            "**1. Install the Necessary Libraries:**\n",
            "\n",
            "   *   **`google-generativeai`:** This is the primary library for interacting with Google's generative AI models (like Gemini).  You'll use it for text generation, image generation, etc.\n",
            "   *   **`google-ai-python`:**  While less commonly used directly for generation tasks, it provides foundational API clients and can be helpful for some advanced features.\n",
            "   *   **`google-auth`:**  A core library for Google Cloud authentication. While the API key simplifies things, this library might be needed in certain scenarios or for more complex authentication workflows.\n",
            "\n",
            "   Open your terminal or command prompt and use `pip` (Python's package installer) to install these:\n",
            "\n",
            "   ```bash\n",
            "   pip install google-generativeai google-ai-python google-auth\n",
            "   ```\n",
            "\n",
            "**2. Configure Your Google API Key:**\n",
            "\n",
            "   This is the crucial step.  You have several options for how to provide your API key to the Python libraries.  The most common and recommended methods are:\n",
            "\n",
            "   *   **Environment Variable (Recommended):**\n",
            "        *   Set an environment variable named `GOOGLE_API_KEY` to your API key value. This is generally the most secure and convenient approach.\n",
            "\n",
            "        ```bash\n",
            "        # Linux/macOS\n",
            "        export GOOGLE_API_KEY=\"YOUR_ACTUAL_API_KEY\"\n",
            "\n",
            "        # Windows (Command Prompt)\n",
            "        set GOOGLE_API_KEY=\"YOUR_ACTUAL_API_KEY\"\n",
            "\n",
            "        # Windows (PowerShell)\n",
            "        $env:GOOGLE_API_KEY=\"YOUR_ACTUAL_API_KEY\"\n",
            "        ```\n",
            "        *   **Important:** Replace `\"YOUR_ACTUAL_API_KEY\"` with your actual API key obtained from the Google Cloud Console.\n",
            "        *   **Persistent Environment Variables:**  To make the environment variable persistent (available after you close and reopen your terminal/console), you'll need to add it to your system's environment variables.  How you do this depends on your operating system:\n",
            "            *   **Linux/macOS:**  Add the `export` command to your `.bashrc`, `.zshrc`, or similar shell configuration file.\n",
            "            *   **Windows:**  Go to System Properties -> Advanced System Settings -> Environment Variables.  Add a new User or System variable with the name `GOOGLE_API_KEY` and the value of your API key.\n",
            "   *   **Directly in Code (Less Recommended):**\n",
            "        *   You *can* pass the API key directly within your Python code, but this is **generally not recommended** for security reasons, especially if you're sharing your code or storing it in a repository.\n",
            "\n",
            "        ```python\n",
            "        import google.generativeai as genai\n",
            "\n",
            "        genai.configure(api_key=\"YOUR_ACTUAL_API_KEY\")\n",
            "\n",
            "        model = genai.GenerativeModel('gemini-pro')  # or your desired model\n",
            "        response = model.generate(\"Tell me a short story about a cat astronaut.\")\n",
            "        print(response.text)\n",
            "        ```\n",
            "\n",
            "**3. Example Usage (with `google-generativeai`):**\n",
            "\n",
            "   Here's a complete example using the recommended environment variable approach:\n",
            "\n",
            "   ```python\n",
            "   import google.generativeai as genai\n",
            "   import os  # for accessing environment variables\n",
            "\n",
            "   # Access the API key from the environment variable\n",
            "   api_key = os.environ.get(\"GOOGLE_API_KEY\")\n",
            "\n",
            "   if not api_key:\n",
            "       print(\"Error: GOOGLE_API_KEY environment variable not set.\")\n",
            "       exit()  # Exit if the API key is missing\n",
            "\n",
            "   genai.configure(api_key=api_key)\n",
            "\n",
            "   # Choose your model (e.g., 'gemini-pro', 'gemini-pro-vision')\n",
            "   model = genai.GenerativeModel('gemini-pro')\n",
            "\n",
            "   # Example prompt\n",
            "   prompt = \"Write a short poem about the ocean.\"\n",
            "\n",
            "   # Generate content\n",
            "   try:\n",
            "       response = model.generate(prompt)\n",
            "       print(response.text)\n",
            "   except Exception as e:\n",
            "       print(f\"An error occurred: {e}\")\n",
            "\n",
            "   ```\n",
            "\n",
            "**Important Considerations and Best Practices:**\n",
            "\n",
            "*   **Security:**  *Never* commit your API key directly to a public code repository (like GitHub).  Using environment variables is crucial for keeping your API key secure.  If you *must* include the API key in code, use a configuration file that is not checked into version control and is loaded at runtime.\n",
            "*   **API Key Management:**  Treat your API key like a password.  Restrict access to it and monitor its usage.  Consider using secrets management tools (e.g., HashiCorp Vault, AWS Secrets Manager) for more robust security, especially in production environments.\n",
            "*   **Error Handling:**  Wrap your API calls in `try...except` blocks to handle potential errors (e.g., invalid API key, rate limits, network issues).\n",
            "*   **Rate Limits and Quotas:**  Be aware of the rate limits and quotas associated with your Google Cloud project. Exceeding these limits can result in your API requests being throttled or rejected. Check the Google Cloud Console for your project's quotas and usage.\n",
            "*   **Model Selection:** Choose the appropriate model for your task (e.g., `gemini-pro` for general text generation, `gemini-pro-vision` for image understanding and generation). The available models and their capabilities may change, so refer to the official Google AI documentation.\n",
            "*   **Prompt Engineering:**  The quality of the generated content depends heavily on the prompt you provide. Experiment with different prompts to achieve the desired results.  Google provides extensive documentation and best practices for prompt engineering.\n",
            "*   **Authentication for Production:** While the API key is convenient for local development, in a production environment, you should use service accounts and proper authentication mechanisms provided by Google Cloud (see `google-auth`). This is much more secure and manageable.\n",
            "\n",
            "**Troubleshooting:**\n",
            "\n",
            "*   **`GOOGLE_API_KEY not found`:** Double-check that you've set the environment variable correctly and that your Python code is able to access it.  Restart your terminal or IDE if necessary.\n",
            "*   **`Invalid API Key`:** Verify that the API key you're using is correct and that it's enabled in your Google Cloud project.\n",
            "*   **`Quota Exceeded`:** Check your Google Cloud project's quotas and usage in the Cloud Console.  You may need to request a quota increase.\n",
            "*   **`ModuleNotFoundError`:** Make sure you've installed the necessary libraries using `pip`.\n",
            "*   **Network Issues:**  Ensure you have a stable internet connection.\n",
            "\n",
            "By following these steps and best practices, you should be able to successfully install the Python SDK and GenAI library and start using your Google API key to generate amazing content on your local machine.  Good luck!\n",
            "\n"
          ]
        }
      ],
      "source": [
        "model = genai.GenerativeModel('gemini-2.0-flash')\n",
        "response = model.generate_content(\"can i install Python SDK and genai using the google API key on my local machine?\")\n",
        "print(response.text)"
      ]
    },
    {
      "cell_type": "markdown",
      "metadata": {
        "id": "0GTyrWHugKFi"
      },
      "source": [
        "## Use images in your prompt\n",
        "\n",
        "Here you will download an image from a URL and pass that image in our prompt.\n",
        "\n",
        "First, you download the image and load it with PIL:"
      ]
    },
    {
      "cell_type": "code",
      "execution_count": null,
      "metadata": {
        "id": "JgbFtil0gLNf",
        "outputId": "e8702711-48af-4acc-cbf0-ef4cb0f28ee0"
      },
      "outputs": [
        {
          "name": "stdout",
          "output_type": "stream",
          "text": [
            "  % Total    % Received % Xferd  Average Speed   Time    Time     Time  Current\n",
            "                                 Dload  Upload   Total   Spent    Left  Speed\n",
            "\r  0     0    0     0    0     0      0      0 --:--:-- --:--:-- --:--:--     0\r100  349k  100  349k    0     0  2364k      0 --:--:-- --:--:-- --:--:-- 2375k\n"
          ]
        }
      ],
      "source": [
        "!curl -o image.jpg \"https://storage.googleapis.com/generativeai-downloads/images/jetpack.jpg\""
      ]
    },
    {
      "cell_type": "code",
      "execution_count": null,
      "metadata": {
        "id": "0rcYDbcDga8s",
        "outputId": "4a1f6894-224f-4709-f712-840662700b37"
      },
      "outputs": [
        {
          "data": {
            "text/plain": "Output hidden; open in https://colab.research.google.com to view."
          },
          "metadata": {},
          "output_type": "display_data"
        }
      ],
      "source": [
        "import PIL.Image\n",
        "img = PIL.Image.open('image.jpg')\n",
        "img"
      ]
    },
    {
      "cell_type": "code",
      "execution_count": null,
      "metadata": {
        "id": "UTgRAmEHOaAz"
      },
      "outputs": [],
      "source": [
        "prompt = \"\"\"This image contains a sketch of a potential product along with some notes.\n",
        "Given the product sketch, describe the product as thoroughly as possible based on what you\n",
        "see in the image, making sure to note all of the product features. Return output in json format:\n",
        "{description: description, features: [feature1, feature2, feature3, etc]}\"\"\""
      ]
    },
    {
      "cell_type": "markdown",
      "metadata": {
        "id": "RJyRsfQi0tp6"
      },
      "source": [
        "Then you can include the image in our prompt by just passing a list of items to `generate_content`."
      ]
    },
    {
      "cell_type": "code",
      "execution_count": null,
      "metadata": {
        "id": "Aoil5YiTgbZS",
        "outputId": "232d3eec-1ebe-456c-d384-144df0be3ff6"
      },
      "outputs": [
        {
          "name": "stdout",
          "output_type": "stream",
          "text": [
            "```json\n",
            "{\n",
            "  \"description\": \"The product is a jetpack backpack designed to look like a normal, lightweight backpack. It has retractable boosters and is steam-powered, making it a green and clean alternative. It is designed to fit an 18\\\" laptop.  The backpack is USB-C chargeable and has a 15-minute battery life. It also features padded strap support.\",\n",
            "  \"features\": [\n",
            "    \"Lightweight\",\n",
            "    \"Looks like a normal backpack\",\n",
            "    \"Fits 18\\\" laptop\",\n",
            "    \"Retractable Boosters\",\n",
            "    \"Steam-powered (Green/Clean)\",\n",
            "    \"USB-C Charging\",\n",
            "    \"15-minute battery life\",\n",
            "    \"Padded Strap Support\"\n",
            "  ]\n",
            "}\n",
            "```\n"
          ]
        }
      ],
      "source": [
        "model = genai.GenerativeModel('gemini-2.0-flash')\n",
        "response = model.generate_content([prompt, img])\n",
        "print(response.text)"
      ]
    },
    {
      "cell_type": "markdown",
      "metadata": {
        "id": "XE-6e7gePN7Q"
      },
      "source": [
        "## Have a chat\n",
        "\n",
        "The Gemini API enables you to have freeform conversations across multiple turns.\n",
        "\n",
        "The [ChatSession](https://ai.google.dev/api/python/google/generativeai/ChatSession) class will store the conversation history for multi-turn interactions."
      ]
    },
    {
      "cell_type": "code",
      "execution_count": null,
      "metadata": {
        "id": "ZKAtY5oIPQW0"
      },
      "outputs": [],
      "source": [
        "model = genai.GenerativeModel('gemini-2.0-flash')\n",
        "chat = model.start_chat(history=[])"
      ]
    },
    {
      "cell_type": "code",
      "execution_count": null,
      "metadata": {
        "id": "9tXNVnqxPcXy",
        "outputId": "36c31f5e-98e7-453c-e7b6-69f0f96f9cfd"
      },
      "outputs": [
        {
          "name": "stdout",
          "output_type": "stream",
          "text": [
            "A computer is like a super-smart toy that follows your instructions to play games, draw pictures, or tell you stories!\n",
            "\n"
          ]
        }
      ],
      "source": [
        "response = chat.send_message(\"In one sentence, explain how a computer works to a young child.\")\n",
        "print(response.text)"
      ]
    },
    {
      "cell_type": "markdown",
      "metadata": {
        "id": "7TChH2l5PhFf"
      },
      "source": [
        "You can see the chat history:"
      ]
    },
    {
      "cell_type": "code",
      "execution_count": null,
      "metadata": {
        "id": "dHwrC82YPiWS",
        "outputId": "31f4beff-dc34-4b53-8831-f5c9e0549156"
      },
      "outputs": [
        {
          "name": "stdout",
          "output_type": "stream",
          "text": [
            "[parts {\n",
            "  text: \"In one sentence, explain how a computer works to a young child.\"\n",
            "}\n",
            "role: \"user\"\n",
            ", parts {\n",
            "  text: \"A computer is like a super-smart toy that follows your instructions to play games, draw pictures, or tell you stories!\\n\"\n",
            "}\n",
            "role: \"model\"\n",
            "]\n"
          ]
        }
      ],
      "source": [
        "print(chat.history)"
      ]
    },
    {
      "cell_type": "markdown",
      "metadata": {
        "id": "EvHvt1OEPl7D"
      },
      "source": [
        "You can keep sending messages to continue the conversation:"
      ]
    },
    {
      "cell_type": "code",
      "execution_count": null,
      "metadata": {
        "id": "-fXZZQPzPkie",
        "outputId": "cd5e70e9-e7a5-4e61-8b1b-8f91e8f83519"
      },
      "outputs": [
        {
          "name": "stdout",
          "output_type": "stream",
          "text": [
            "A computer operates by executing instructions stored in its memory, processing data through the CPU based on algorithms and logic, and utilizing input/output devices to interact with the user and external environment, all coordinated by an operating system that manages resources and provides a platform for applications.\n",
            "\n"
          ]
        }
      ],
      "source": [
        "response = chat.send_message(\"Okay, how about a more detailed explanation to a high schooler?\")\n",
        "print(response.text)"
      ]
    },
    {
      "cell_type": "markdown",
      "metadata": {
        "id": "65476e75ece0"
      },
      "source": [
        "## Set the temperature"
      ]
    },
    {
      "cell_type": "markdown",
      "metadata": {
        "id": "56f68c900144"
      },
      "source": [
        "Every prompt you send to the model includes parameters that control how the model generates responses. Use a `genai.GenerationConfig` to set these, or omit it to use the defaults.\n",
        "\n",
        "Temperature controls the degree of randomness in token selection. Use higher values for more creative responses, and lower values for more deterministic responses.\n",
        "\n",
        "You can set the `generation_config` when creating the model."
      ]
    },
    {
      "cell_type": "code",
      "execution_count": null,
      "metadata": {
        "id": "28477e706226"
      },
      "outputs": [],
      "source": [
        "model = genai.GenerativeModel(\n",
        "    'gemini-2.0-flash',\n",
        "    generation_config=genai.GenerationConfig(\n",
        "        max_output_tokens=2000,\n",
        "        temperature=0.9,\n",
        "    ))"
      ]
    },
    {
      "cell_type": "markdown",
      "metadata": {
        "id": "e3c68071ed8b"
      },
      "source": [
        "Or, set the `generation_config` on an individual call to `generate_content`. Any values set there override values on the model constructor.\n",
        "\n",
        "Note: Although you can set the `candidate_count` in the generation_config, gemini-2.0-flash models will only return a single candidate at the this time."
      ]
    },
    {
      "cell_type": "code",
      "execution_count": null,
      "metadata": {
        "id": "f895c7f55b30"
      },
      "outputs": [],
      "source": [
        "response = model.generate_content(\n",
        "    'Give me a numbered list of cat facts.',\n",
        "    # Limit to 5 facts.\n",
        "    generation_config = genai.GenerationConfig(stop_sequences=['\\n6'])\n",
        ")"
      ]
    },
    {
      "cell_type": "code",
      "execution_count": null,
      "metadata": {
        "id": "c97c16e6a961",
        "outputId": "ccb44cb0-c76f-44aa-d9cd-bf06031557a9"
      },
      "outputs": [
        {
          "name": "stdout",
          "output_type": "stream",
          "text": [
            "Okay, here's a numbered list of fascinating cat facts:\n",
            "\n",
            "1.  **Cats have a third eyelid:** This is called a nictitating membrane, and it's a translucent eyelid that protects and moistens the eye. It's usually only visible when a cat is sleepy or sick.\n",
            "\n",
            "2.  **A cat's nose print is unique:** Just like human fingerprints, no two cats have the same nose print pattern.\n",
            "\n",
            "3.  **Cats can't taste sweetness:** They lack the taste receptor gene that allows mammals to taste sweet flavors.\n",
            "\n",
            "4.  **Cats are crepuscular animals:** This means they are most active during dawn and dusk, which is when their prey (rodents) are also most active.\n",
            "\n",
            "5.  **Cats have flexible bodies thanks to their \"floating\" clavicle:** Unlike humans, a cat's collarbone isn't attached to other bones, allowing for greater flexibility and range of motion.\n",
            "\n"
          ]
        }
      ],
      "source": [
        "print(response.text)"
      ]
    },
    {
      "cell_type": "markdown",
      "metadata": {
        "id": "gvkDhXtHgol7"
      },
      "source": [
        "## Learn more\n",
        "\n",
        "There's lots more to learn!\n",
        "\n",
        "* For more fun prompts, check out [Market a Jetpack](https://github.com/google-gemini/cookbook/blob/main/examples/Market_a_Jet_Backpack.ipynb).\n",
        "* Check out the [safety quickstart](https://github.com/google-gemini/cookbook/blob/main/quickstarts/Safety.ipynb) next to learn about the Gemini API's configurable safety settings, and what to do if your prompt is blocked.\n",
        "* For lots more details on using the Python SDK, check out this [detailed quickstart](https://ai.google.dev/tutorials/python_quickstart)."
      ]
    }
  ],
  "metadata": {
    "colab": {
      "name": "Prompting.ipynb",
      "provenance": [],
      "include_colab_link": true
    },
    "google": {
      "image_path": "/static/site-assets/images/docs/logo-python.svg",
      "keywords": [
        "examples",
        "gemini",
        "beginner",
        "googleai",
        "quickstart",
        "python",
        "text",
        "chat",
        "vision",
        "embed"
      ]
    },
    "kernelspec": {
      "display_name": "Python 3",
      "name": "python3"
    }
  },
  "nbformat": 4,
  "nbformat_minor": 0
}